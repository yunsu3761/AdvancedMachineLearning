{
 "cells": [
  {
   "cell_type": "markdown",
   "metadata": {},
   "source": [
    "# In Ensemble2 Part\n",
    "\n",
    "\n",
    "## Implement Random Forest And Evaluation\n",
    "\n",
    "======================================================================================"
   ]
  },
  {
   "cell_type": "markdown",
   "metadata": {},
   "source": [
    "### Importing Modules"
   ]
  },
  {
   "cell_type": "code",
   "execution_count": 1,
   "metadata": {
    "collapsed": false
   },
   "outputs": [
    {
     "name": "stderr",
     "output_type": "stream",
     "text": [
      "C:\\Users\\jeonyunsu\\Anaconda3\\lib\\site-packages\\sklearn\\cross_validation.py:41: DeprecationWarning: This module was deprecated in version 0.18 in favor of the model_selection module into which all the refactored classes and functions are moved. Also note that the interface of the new CV iterators are different from that of this module. This module will be removed in 0.20.\n",
      "  \"This module will be removed in 0.20.\", DeprecationWarning)\n"
     ]
    }
   ],
   "source": [
    "from sklearn.tree import DecisionTreeClassifier\n",
    "from sklearn import cross_validation\n",
    "\n",
    "import numpy as np\n",
    "import pandas as pd\n",
    "\n",
    "from collections import Counter"
   ]
  },
  {
   "cell_type": "markdown",
   "metadata": {},
   "source": [
    "### Define User's Function : Random Forest"
   ]
  },
  {
   "cell_type": "code",
   "execution_count": 2,
   "metadata": {
    "collapsed": false
   },
   "outputs": [],
   "source": [
    "def RandomForest(X,Y,n_estimator, n_subsets, n_features,min_samples_split,X_test):\n",
    "    \n",
    "    global pred, model, sample, var, outofbag\n",
    "\n",
    "    model,sample,outofbag,var=[],[],[],[]\n",
    "    n=1\n",
    "\n",
    "    while n<=n_estimator:\n",
    "        clf=DecisionTreeClassifier(min_samples_split=min_samples_split)\n",
    "        set_idx=list(np.random.choice(range(0,len(X)),n_subsets,replace=True))\n",
    "        fea_idx=list(np.random.choice(range(0,len(X[0])),n_features,replace=False))\n",
    "        sample.append(set_idx);var.append(fea_idx);outofbag.append(np.delete(range(0,len(X)),set_idx,axis=0))\n",
    "        model.append(clf.fit(X[set_idx][:,fea_idx],Y[set_idx]))\n",
    "        n+=1\n",
    "\n",
    "    if len(model)!=1:\n",
    "        A=[]\n",
    "        for i in range(0,len(model)):              \n",
    "            preds=model[i].predict(X_test[:,var[i]])\n",
    "            A.append(preds)\n",
    "        \n",
    "        A=np.array(A)\n",
    "        pred=[sorted(Counter(A.T[i]), key=Counter(A.T[i]).get, reverse=True)[0] for i in range(0,len(A.T))]\n",
    "    else:\n",
    "        pred=model[0].predict(X_test[:,var[0]])       \n",
    "        \n",
    "    return model, sample, var"
   ]
  },
  {
   "cell_type": "markdown",
   "metadata": {},
   "source": [
    "### Importing Datasets and Setting Train/Test Data"
   ]
  },
  {
   "cell_type": "code",
   "execution_count": 3,
   "metadata": {
    "collapsed": false
   },
   "outputs": [],
   "source": [
    "frame=\"segmentation.csv\"\n",
    "Sets=pd.read_table(frame, sep=\",\")\n",
    "train, test=cross_validation.train_test_split(Sets,test_size=0.2,stratify=Sets['CLASSES'],random_state=100)\n",
    "train_X, train_Y=np.array(train)[:,1:],np.array(train)[:,0]\n",
    "test_X, test_Y=np.array(test)[:,1:],np.array(test)[:,0]\n",
    "\n",
    "del(train, test,Sets,frame)"
   ]
  },
  {
   "cell_type": "markdown",
   "metadata": {},
   "source": [
    "### Implement model and Evaluation Performance"
   ]
  },
  {
   "cell_type": "code",
   "execution_count": 4,
   "metadata": {
    "collapsed": false
   },
   "outputs": [
    {
     "name": "stdout",
     "output_type": "stream",
     "text": [
      "Number of Trees : 1 || Number of Features : 10 || Accuracy : 83.0\n",
      "Number of Trees : 1 || Number of Features : 15 || Accuracy : 81.0\n",
      "Number of Trees : 1 || Number of Features : 19 || Accuracy : 86.0\n",
      "Number of Trees : 5 || Number of Features : 10 || Accuracy : 86.0\n",
      "Number of Trees : 5 || Number of Features : 15 || Accuracy : 86.0\n",
      "Number of Trees : 5 || Number of Features : 19 || Accuracy : 88.0\n",
      "Number of Trees : 10 || Number of Features : 10 || Accuracy : 79.0\n",
      "Number of Trees : 10 || Number of Features : 15 || Accuracy : 88.0\n",
      "Number of Trees : 10 || Number of Features : 19 || Accuracy : 90.0\n",
      "Number of Trees : 20 || Number of Features : 10 || Accuracy : 88.0\n",
      "Number of Trees : 20 || Number of Features : 15 || Accuracy : 86.0\n",
      "Number of Trees : 20 || Number of Features : 19 || Accuracy : 93.0\n",
      "Number of Trees : 30 || Number of Features : 10 || Accuracy : 88.0\n",
      "Number of Trees : 30 || Number of Features : 15 || Accuracy : 90.0\n",
      "Number of Trees : 30 || Number of Features : 19 || Accuracy : 90.0\n",
      "Number of Trees : 50 || Number of Features : 10 || Accuracy : 90.0\n",
      "Number of Trees : 50 || Number of Features : 15 || Accuracy : 88.0\n",
      "Number of Trees : 50 || Number of Features : 19 || Accuracy : 90.0\n",
      "=====================================================================\n",
      " {'Number of Trees': 20, ' Number of Features': 19}\n"
     ]
    }
   ],
   "source": [
    "min_,sub_=10,130\n",
    "estimator,features=[1,5,10,20,30,50],[10,15,19]\n",
    "sub_ACC, sub_model =[], []\n",
    "\n",
    "\n",
    "for n_estimator in estimator:\n",
    "    for n_features in features:\n",
    "        sub_model.append(RandomForest(train_X, train_Y, n_estimator, sub_, n_features, min_,test_X))\n",
    "        ACC=sum(pred==test_Y)/len(pred)*100\n",
    "        sub_ACC.append(ACC)\n",
    "        print(\"Number of Trees : {} || Number of Features : {} || Accuracy : {}\".format(n_estimator, n_features, round(ACC)))\n",
    "\n",
    "        \n",
    "best_RFmodel=np.array(sub_model[np.argmax(sub_ACC)]); best_parameter={'Number of Trees':len(best_RFmodel[2,:]),' Number of Features':len(best_RFmodel[2,[0]][0])}\n",
    "print (\"=====================================================================\\n\",best_parameter)              "
   ]
  }
 ],
 "metadata": {
  "kernelspec": {
   "display_name": "Python [Root]",
   "language": "python",
   "name": "Python [Root]"
  },
  "language_info": {
   "codemirror_mode": {
    "name": "ipython",
    "version": 3
   },
   "file_extension": ".py",
   "mimetype": "text/x-python",
   "name": "python",
   "nbconvert_exporter": "python",
   "pygments_lexer": "ipython3",
   "version": "3.5.2"
  }
 },
 "nbformat": 4,
 "nbformat_minor": 0
}
