{
 "cells": [
  {
   "cell_type": "markdown",
   "metadata": {},
   "source": [
    "# In Regression Part\n",
    "\n",
    "\n",
    "## Let's Implement Backward Elimination\n",
    "\n",
    "    - Backward elimination starts from a full regression model with all variables and then removes variables one by one\n",
    "    \n",
    "============================================================================"
   ]
  },
  {
   "cell_type": "markdown",
   "metadata": {},
   "source": [
    "### Importing Modules"
   ]
  },
  {
   "cell_type": "code",
   "execution_count": 1,
   "metadata": {
    "collapsed": true
   },
   "outputs": [],
   "source": [
    "from sklearn import linear_model\n",
    "import numpy as np\n",
    "import scipy\n",
    "import pandas as pd\n",
    "from scipy.stats import f"
   ]
  },
  {
   "cell_type": "markdown",
   "metadata": {},
   "source": [
    "### Importing Dataset - Cement.txt"
   ]
  },
  {
   "cell_type": "code",
   "execution_count": 2,
   "metadata": {
    "collapsed": false
   },
   "outputs": [
    {
     "data": {
      "text/html": [
       "<div>\n",
       "<table border=\"1\" class=\"dataframe\">\n",
       "  <thead>\n",
       "    <tr style=\"text-align: right;\">\n",
       "      <th></th>\n",
       "      <th>aluminate</th>\n",
       "      <th>silcate</th>\n",
       "      <th>ferrite</th>\n",
       "      <th>dical_sil</th>\n",
       "      <th>hardening</th>\n",
       "    </tr>\n",
       "  </thead>\n",
       "  <tbody>\n",
       "    <tr>\n",
       "      <th>0</th>\n",
       "      <td>7</td>\n",
       "      <td>26</td>\n",
       "      <td>6</td>\n",
       "      <td>60</td>\n",
       "      <td>78.5</td>\n",
       "    </tr>\n",
       "    <tr>\n",
       "      <th>1</th>\n",
       "      <td>1</td>\n",
       "      <td>29</td>\n",
       "      <td>15</td>\n",
       "      <td>52</td>\n",
       "      <td>74.3</td>\n",
       "    </tr>\n",
       "    <tr>\n",
       "      <th>2</th>\n",
       "      <td>11</td>\n",
       "      <td>56</td>\n",
       "      <td>8</td>\n",
       "      <td>20</td>\n",
       "      <td>104.3</td>\n",
       "    </tr>\n",
       "    <tr>\n",
       "      <th>3</th>\n",
       "      <td>11</td>\n",
       "      <td>31</td>\n",
       "      <td>8</td>\n",
       "      <td>47</td>\n",
       "      <td>87.6</td>\n",
       "    </tr>\n",
       "    <tr>\n",
       "      <th>4</th>\n",
       "      <td>7</td>\n",
       "      <td>52</td>\n",
       "      <td>6</td>\n",
       "      <td>33</td>\n",
       "      <td>95.9</td>\n",
       "    </tr>\n",
       "  </tbody>\n",
       "</table>\n",
       "</div>"
      ],
      "text/plain": [
       "   aluminate  silcate  ferrite  dical_sil  hardening\n",
       "0          7       26        6         60       78.5\n",
       "1          1       29       15         52       74.3\n",
       "2         11       56        8         20      104.3\n",
       "3         11       31        8         47       87.6\n",
       "4          7       52        6         33       95.9"
      ]
     },
     "execution_count": 2,
     "metadata": {},
     "output_type": "execute_result"
    }
   ],
   "source": [
    "fname='dataset_cement.txt'\n",
    "df=pd.read_table(fname, sep='\\t',names=['aluminate','silcate','ferrite','dical_sil','hardening'])\n",
    "y=df['hardening'].values\n",
    "\n",
    "df.head()"
   ]
  },
  {
   "cell_type": "markdown",
   "metadata": {},
   "source": [
    "### Define User's Functions : SSR, MSE and Partial F"
   ]
  },
  {
   "cell_type": "code",
   "execution_count": 3,
   "metadata": {
    "collapsed": true
   },
   "outputs": [],
   "source": [
    "def SSR(y_pred, y_real):\n",
    "    y_mean = y_real.mean()\n",
    "    \n",
    "    ssr = sum((y_pred-y_mean)**2)\n",
    "    \n",
    "    return ssr\n",
    "\n",
    "def MSE(y_pred, y_real, p_num):\n",
    "    \n",
    "    sse = sum((y_pred-y_real)**2)\n",
    "    mse = sse/(len(y_pred)-p_num-1)\n",
    "    \n",
    "    return mse\n",
    "\n",
    "def Partial_F(before_ssr, after_ssr, mse):\n",
    "    \n",
    "    f_value = (before_ssr -after_ssr)/mse\n",
    "    \n",
    "    return f_value"
   ]
  },
  {
   "cell_type": "markdown",
   "metadata": {},
   "source": [
    "### Modeling Linear Regression and Specifying p-value as variable removal condition"
   ]
  },
  {
   "cell_type": "code",
   "execution_count": 4,
   "metadata": {
    "collapsed": false
   },
   "outputs": [],
   "source": [
    "clf=linear_model.LinearRegression(normalize=True)\n",
    "p_remove=0.15"
   ]
  },
  {
   "cell_type": "markdown",
   "metadata": {},
   "source": [
    "### Implementing Backward Elimination"
   ]
  },
  {
   "cell_type": "code",
   "execution_count": 5,
   "metadata": {
    "collapsed": false
   },
   "outputs": [
    {
     "name": "stdout",
     "output_type": "stream",
     "text": [
      "Backward Elimination is over. 'aluminate & silcate & dical_sil' are final selected variables\n"
     ]
    }
   ],
   "source": [
    "selected_cols = ['aluminate','silcate','ferrite','dical_sil']\n",
    "\n",
    "while len(selected_cols)>1: \n",
    "\n",
    "    p_num= len(selected_cols)\n",
    "    clf.fit(df.loc[:,selected_cols], y)\n",
    "    y_pred = clf.predict(df.loc[:,selected_cols])\n",
    "\n",
    "    intial_f = (SSR(y_pred, y)/p_num) / MSE(y_pred, y, p_num) # MSR/MSE = F\n",
    "    intial_ssr = SSR(y_pred, y)\n",
    "    intial_mse = MSE(y_pred, y, p_num)\n",
    "\n",
    "    partial_f_values=[]\n",
    "    ssr_list=[]\n",
    "    f_p_value = []\n",
    "\n",
    "    for col in selected_cols:\n",
    "\n",
    "        inputs = df.loc[:,selected_cols].drop(col,axis=1,inplace=False).values\n",
    "\n",
    "        clf.fit(inputs, y)\n",
    "        y_pred=clf.predict(inputs)\n",
    "\n",
    "        ssr_list.append(SSR(y_pred, y))\n",
    "\n",
    "        partial_f_values.append((intial_ssr-ssr_list[-1])/intial_mse)        \n",
    "        f_p_value.append(f.cdf(partial_f_values[-1], p_num-1 ,len(y_pred)-p_num-2))\n",
    "\n",
    "    if p_remove > f_p_value[np.argmin(partial_f_values)]:\n",
    "        selected_cols.remove(selected_cols[np.argmin(partial_f_values)])\n",
    "    else :\n",
    "        print(\"Backward Elimination is over. '\"+ str(\" & \".join(selected_cols))+\"' are final selected variables\")\n",
    "        break  "
   ]
  }
 ],
 "metadata": {
  "anaconda-cloud": {},
  "kernelspec": {
   "display_name": "Python [Root]",
   "language": "python",
   "name": "Python [Root]"
  },
  "language_info": {
   "codemirror_mode": {
    "name": "ipython",
    "version": 3
   },
   "file_extension": ".py",
   "mimetype": "text/x-python",
   "name": "python",
   "nbconvert_exporter": "python",
   "pygments_lexer": "ipython3",
   "version": "3.5.2"
  }
 },
 "nbformat": 4,
 "nbformat_minor": 0
}
