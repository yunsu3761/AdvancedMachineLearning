{
 "cells": [
  {
   "cell_type": "markdown",
   "metadata": {},
   "source": [
    "# In SVM2 Part\n",
    "\n",
    "\n",
    "## Implement Multiclass Support Vector Machine  \n",
    "    \n",
    "    1) One-Versus-The rest approach\n",
    "    2) One-Versus-One Approach\n",
    "    \n",
    "\n",
    "======================================================================================"
   ]
  },
  {
   "cell_type": "markdown",
   "metadata": {},
   "source": [
    "### Importing Modules"
   ]
  },
  {
   "cell_type": "code",
   "execution_count": 1,
   "metadata": {
    "collapsed": false
   },
   "outputs": [
    {
     "name": "stderr",
     "output_type": "stream",
     "text": [
      "C:\\Users\\jeonyunsu\\Anaconda3\\lib\\site-packages\\sklearn\\cross_validation.py:41: DeprecationWarning: This module was deprecated in version 0.18 in favor of the model_selection module into which all the refactored classes and functions are moved. Also note that the interface of the new CV iterators are different from that of this module. This module will be removed in 0.20.\n",
      "  \"This module will be removed in 0.20.\", DeprecationWarning)\n"
     ]
    }
   ],
   "source": [
    "import pandas as pd\n",
    "import numpy as np\n",
    "\n",
    "from sklearn.cross_validation import train_test_split\n",
    "from sklearn.svm import SVC"
   ]
  },
  {
   "cell_type": "markdown",
   "metadata": {},
   "source": [
    "### Importing Datasets"
   ]
  },
  {
   "cell_type": "code",
   "execution_count": 2,
   "metadata": {
    "collapsed": false
   },
   "outputs": [],
   "source": [
    "frame=\"segmentation.csv\"\n",
    "\n",
    "data=pd.read_table(frame,sep=\",\")\n",
    "X=data[['REGION-CENTROID-COL',\"REGION-CENTROID-ROW\",\"REGION-PIXEL-COUNT\",\"SHORT-LINE-DENSITY-5\",\"SHORT-LINE-DENSITY-2\",\"VEDGE-MEAN\",\"VEDGE-SD\",\n",
    "       \"HEDGE-MEAN\",\"HEDGE-SD\",\"INTENSITY-MEAN\",\"RAWRED-MEAN\",\"RAWBLUE-MEAN\",\"RAWGREEN-MEAN\",\"EXRED-MEAN\",\"EXBLUE-MEAN\", \"EXGREEN-MEAN\",\"VALUE-MEAN\",\"SATURATION-MEAN\",\"HUE-MEAN\"]]\n",
    "Y=data['CLASSES']\n",
    "\n",
    "CLASS=list(set(Y)) # one vs rest\n",
    "cp_CLASS=list(set(Y)) # one vs one\n",
    "\n",
    "X_train, X_test, y_train, y_test = train_test_split(X, Y, test_size=0.2,random_state=1,stratify=Y)\n"
   ]
  },
  {
   "cell_type": "markdown",
   "metadata": {},
   "source": [
    "### Assign and Implment SVC Model"
   ]
  },
  {
   "cell_type": "code",
   "execution_count": 3,
   "metadata": {
    "collapsed": true
   },
   "outputs": [],
   "source": [
    "clf=SVC(kernel=\"linear\")"
   ]
  },
  {
   "cell_type": "markdown",
   "metadata": {},
   "source": [
    "- One VS The Rest"
   ]
  },
  {
   "cell_type": "code",
   "execution_count": 4,
   "metadata": {
    "collapsed": true
   },
   "outputs": [],
   "source": [
    "preds=[]\n",
    "\n",
    "for one_vs_others in CLASS:\n",
    "    clf.fit(X_train, np.where(one_vs_others==y_train,1,-1))\n",
    "    pred_new_Y=[]\n",
    "    for j in range(0,len(X_test)):\n",
    "        values=sum(list(X_test.iloc[j,:])*clf.coef_[0])+clf.intercept_[0]\n",
    "        pred_new_Y.append(values)\n",
    "    preds.append(pred_new_Y)\n",
    "    \n",
    "    \n",
    "final_Y=[CLASS[np.argmax(preds, axis=0)[i]] for i in range(0,len(y_test))]\n",
    "acc1=sum(np.where(y_test==final_Y,1,0))/len(y_test)*100"
   ]
  },
  {
   "cell_type": "markdown",
   "metadata": {},
   "source": [
    "- One VS One"
   ]
  },
  {
   "cell_type": "code",
   "execution_count": 5,
   "metadata": {
    "collapsed": false,
    "scrolled": true
   },
   "outputs": [
    {
     "name": "stderr",
     "output_type": "stream",
     "text": [
      "C:\\Users\\jeonyunsu\\Anaconda3\\lib\\site-packages\\ipykernel\\__main__.py:28: FutureWarning: sort(columns=....) is deprecated, use sort_values(by=.....)\n"
     ]
    }
   ],
   "source": [
    "preds2=[]\n",
    "\n",
    "for one_vs in CLASS:\n",
    "    cp_CLASS.remove(one_vs)\n",
    "    for one in cp_CLASS:\n",
    "        \n",
    "        # model fit\n",
    "        ix_modelset=y_train[y_train==one_vs].index.append(y_train[y_train==one].index)\n",
    "        new_X=X_train.loc[list(ix_modelset),:]\n",
    "        new_Y=y_train.loc[list(ix_modelset)]\n",
    "        clf.fit(new_X, np.where(one_vs==new_Y,1,-1))\n",
    "        \n",
    "        # predict\n",
    "        pred_Y=clf.predict(X_test)\n",
    "        \n",
    "        # index append\n",
    "        preds2=preds2+list(np.where(pred_Y==1,one_vs,one))\n",
    "        \n",
    "## aggregate results\n",
    "        \n",
    "n=int((len(CLASS)*(len(CLASS)-1))/2)\n",
    "\n",
    "final=pd.DataFrame(np.c_[preds2,pd.concat([y_test]*n),list(y_test.index)*n])\n",
    "final.columns=['predict','real','index']\n",
    "final=final.groupby(['index','predict','real']).size().reset_index(name=\"count\")\n",
    "final=final.iloc[final.groupby(['index'])['count'].idxmax()]\n",
    "final['index']=final['index'].values.astype(int)\n",
    "final=final.sort(['index'])\n",
    "\n",
    "acc2=sum(np.where(final['real']==final['predict'],1,0))/len(final)*100"
   ]
  },
  {
   "cell_type": "markdown",
   "metadata": {},
   "source": [
    "### Compare Accuracy"
   ]
  },
  {
   "cell_type": "code",
   "execution_count": 6,
   "metadata": {
    "collapsed": false
   },
   "outputs": [
    {
     "name": "stdout",
     "output_type": "stream",
     "text": [
      "88.1 %, 90.48 %\n"
     ]
    }
   ],
   "source": [
    "print (round(acc1,2),\"%,\", round(acc2,2),\"%\")"
   ]
  }
 ],
 "metadata": {
  "kernelspec": {
   "display_name": "Python [Anaconda3]",
   "language": "python",
   "name": "Python [Anaconda3]"
  },
  "language_info": {
   "codemirror_mode": {
    "name": "ipython",
    "version": 3
   },
   "file_extension": ".py",
   "mimetype": "text/x-python",
   "name": "python",
   "nbconvert_exporter": "python",
   "pygments_lexer": "ipython3",
   "version": "3.5.2"
  }
 },
 "nbformat": 4,
 "nbformat_minor": 0
}
