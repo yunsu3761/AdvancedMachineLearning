{
 "cells": [
  {
   "cell_type": "markdown",
   "metadata": {},
   "source": [
    "# In Dimension Reduction Part2\n",
    "\n",
    "\n",
    "## Compare Mutiple Reduction Methods \n",
    "    - pca, kernel pca, isomap, lle\n",
    "    \n",
    "===================================================================================================================="
   ]
  },
  {
   "cell_type": "markdown",
   "metadata": {},
   "source": [
    "### Importing Modules"
   ]
  },
  {
   "cell_type": "code",
   "execution_count": 1,
   "metadata": {
    "collapsed": true
   },
   "outputs": [],
   "source": [
    "import pandas as pd\n",
    "from sklearn.decomposition import PCA, KernelPCA\n",
    "from sklearn import manifold\n",
    "from sklearn.ensemble import BaggingClassifier\n",
    "from sklearn.neighbors import KNeighborsClassifier\n",
    "import numpy as np"
   ]
  },
  {
   "cell_type": "markdown",
   "metadata": {},
   "source": [
    "### Import Datasets"
   ]
  },
  {
   "cell_type": "code",
   "execution_count": 2,
   "metadata": {
    "collapsed": false,
    "scrolled": false
   },
   "outputs": [
    {
     "name": "stderr",
     "output_type": "stream",
     "text": [
      "C:\\Users\\jeonyunsu\\Anaconda3\\lib\\site-packages\\ipykernel\\__main__.py:5: ParserWarning: Falling back to the 'python' engine because the 'c' engine does not support regex separators (separators > 1 char and different from '\\s+' are interpreted as regex); you can avoid this warning by specifying engine='python'.\n",
      "C:\\Users\\jeonyunsu\\Anaconda3\\lib\\site-packages\\ipykernel\\__main__.py:8: ParserWarning: Falling back to the 'python' engine because the 'c' engine does not support regex separators (separators > 1 char and different from '\\s+' are interpreted as regex); you can avoid this warning by specifying engine='python'.\n"
     ]
    }
   ],
   "source": [
    "path='ARCENE\\\\'\n",
    "\n",
    "#import datasets\n",
    "frame='arcene_train.data' \n",
    "D_train= pd.read_table(path+frame,sep='\\s',names=['X'+str(i) for i in range(1,10001)])\n",
    "\n",
    "frame='arcene_valid.data'\n",
    "D_valid= pd.read_table(path+frame,sep='\\s',names=['X'+str(i) for i in range(1,10001)])\n",
    "\n",
    "frame='arcene_train.labels.txt'\n",
    "D_L_train= pd.read_table(path+frame,sep='\\t',names=['Target'])\n",
    "\n",
    "frame='arcene_valid.labels.txt'\n",
    "D_L_valid= pd.read_table(path+frame,sep='\\t',names=['Target'])\n",
    "\n",
    "X=D_train.append(D_valid)"
   ]
  },
  {
   "cell_type": "markdown",
   "metadata": {},
   "source": [
    "### Implement KNN Classifier With No Dimension Reduction Method"
   ]
  },
  {
   "cell_type": "code",
   "execution_count": 3,
   "metadata": {
    "collapsed": false
   },
   "outputs": [
    {
     "name": "stdout",
     "output_type": "stream",
     "text": [
      "83.0\n"
     ]
    }
   ],
   "source": [
    "knn = BaggingClassifier(KNeighborsClassifier(n_neighbors=5))\n",
    "knn.fit(D_train,D_L_train.values.ravel())\n",
    "pred_knn=knn.predict(D_valid)\n",
    "ACC_origin=round((sum(np.where(pred_knn==D_L_valid['Target'],1,0))/len(D_L_valid))*100,2) # Basic Knn Accuracy\n",
    "\n",
    "print(ACC_origin)"
   ]
  },
  {
   "cell_type": "markdown",
   "metadata": {},
   "source": [
    "### Implement KNN Classifier With Mutiple Dimension Reduction Methods"
   ]
  },
  {
   "cell_type": "markdown",
   "metadata": {},
   "source": [
    "Explanation \n",
    "\n",
    "    #========================================적절한 Parameter 찾기==================================================#\n",
    "    #Kernel PCA의 경우 적용시킬 다양한 함수와 감마값에 따라 성능차이가 크게 났다. 데이터 분포 알맞는 커널을 찾으면 성능이 더 잘 나올 수도 있을 것.\n",
    "    #이번에는 Poly, RBF, Cosine, Sigmoid를 비교해본 결과 cosine에서 성능이 괜찮게나와서 cosine으로 선택하게 되었다.\n",
    "\n",
    "    #Isomap이나 LLE 같은 경우에는 적절한 K를 찾는 것이 성능을 더 높일 수 있는 관건일 것이다. 5,10,15으로 K값을 조절해가며 돌린결과 \n",
    "    #K=5가 평균적으로 높은 정확도를 보이는 경향이 있어 선택하게 되었다.  \n",
    "\n",
    "    #========================================KernelPCA=================================================#\n",
    "    #pred=[]\n",
    "    #gammas=[1,10,50,80,100]\n",
    "    #for n_components in dim:\n",
    "    #    for g in gammas:\n",
    "    #        #Kernel PCA(rbf)\n",
    "    #        kpca=KernelPCA(n_components=n_components,kernel='rbf',gamma=g)\n",
    "    #        x_kpca=kpca.fit_transform(X)\n",
    "    #        knn.fit(x_kpca[0:100,:],D_L_train)\n",
    "    #        pred_knn_KP1=knn.predict(x_kpca[100:200,:])\n",
    "    #        \n",
    "    #        #Kernel PCA(poly)        \n",
    "    #        kpca=KernelPCA(n_components=n_components,kernel='poly',gamma=g)\n",
    "    #        x_kpca=kpca.fit_transform(X)\n",
    "    #        knn.fit(x_kpca[0:100,:],D_L_train)\n",
    "    #        pred_knn_KP2=knn.predict(x_kpca[100:200,:])\n",
    "    #\n",
    "    #        pred_knns=[pred_knn_KP1,pred_knn_KP2]\n",
    "    #        A=[round((sum(np.where(pred_knn==D_L_valid['Target'],1,0))/len(D_L_valid))*100,2) for pred_knn in pred_knns]\n",
    "    #        pred.append(A)\n",
    "\n",
    "    #np.argmax(pred,axis=0) #최댓값은 dim 50일때와 gamma가 10일때, ploy의 정확도 81%\n",
    "\n",
    "    #pred2=[]\n",
    "    #for n_components in dim:\n",
    "    #    #Kernel PCA(cosine)\n",
    "    #    kpca=KernelPCA(n_components=n_components,kernel='cosine')\n",
    "    #    x_kpca=kpca.fit_transform(X)\n",
    "    #    knn.fit(x_kpca[0:100,:],D_L_train)\n",
    "    #    pred_knn_KP3=knn.predict(x_kpca[100:200,:])\n",
    "    #    \n",
    "    #    #Kernel PCA(sigmoid)\n",
    "    #    kpca=KernelPCA(n_components=n_components,kernel='sigmoid')\n",
    "    #    x_kpca=kpca.fit_transform(X)\n",
    "    #    knn.fit(x_kpca[0:100,:],D_L_train)\n",
    "    #    pred_knn_KP4=knn.predict(x_kpca[100:200,:])\n",
    "    #    \n",
    "    #    pred_knns=[pred_knn_KP3,pred_knn_KP4]\n",
    "    #    A=[round((sum(np.where(pred_knn==D_L_valid['Target'],1,0))/len(D_L_valid))*100,2) for pred_knn in pred_knns]\n",
    "    #    pred2.append(A)\n",
    "\n",
    "    #np.argmax(pred2,axis=0)#최댓값은 dim 50일때, cosine 정확도 82%\n",
    "    #따라서 Cosine 선택\n",
    "    #========================================Isomap, LLE=================================================#\n",
    "    #ACC_set=[]\n",
    "    #dim=[10,50,100]\n",
    "    #n_nes=[5,10,15]\n",
    "    #for n_components in dim:\n",
    "    #    for n_neighbors in n_nes:\n",
    "    #       #Isomap\n",
    "    #        isomap=manifold.Isomap(n_neighbors, n_components)\n",
    "    #        x_isomap=isomap.fit_transform(X)\n",
    "    #        knn.fit(x_isomap[0:100,:],D_L_train)\n",
    "    #        pred_knn_I=knn.predict(x_isomap[100:200,:])\n",
    "    #        \n",
    "    #        #lle\n",
    "    #        lle=manifold.LocallyLinearEmbedding(n_neighbors, n_components)\n",
    "    #        x_lle=lle.fit_transform(X)\n",
    "    #        knn.fit(x_lle[0:100,:],D_L_train)\n",
    "    #        pred_knn_L=knn.predict(x_lle[100:200,:])\n",
    "    #        \n",
    "    #        #calculate ACC\n",
    "    #        reduct_methods=[pred_knn_I, pred_knn_L]\n",
    "    #        ACC=[round((sum(np.where(pred_knn==D_L_valid['Target'],1,0))/len(D_L_valid))*100,2) for pred_knn in reduct_methods]\n",
    "    #        ACC_set.append(ACC)\n",
    "    # Isomap의 경우 모든차원에서 K=5일때 성능이 가장 좋았고, LLE의 경우 dim=50을 제외한 10,100차원에서 K=5일때 성능이 가장 좋았다. \n",
    "    # 따라서 K=5를 선택\n"
   ]
  },
  {
   "cell_type": "markdown",
   "metadata": {},
   "source": [
    "- Implementing KNN Classifier"
   ]
  },
  {
   "cell_type": "code",
   "execution_count": 4,
   "metadata": {
    "collapsed": false,
    "scrolled": false
   },
   "outputs": [],
   "source": [
    "ACC_set=[]\n",
    "dim=[10,50,100]\n",
    "n_neighbors=5\n",
    "\n",
    "for n_components in dim:\n",
    "    \n",
    "    #PCA\n",
    "    pca=PCA(n_components)\n",
    "    x_pca=pca.fit_transform(X)\n",
    "    knn.fit(x_pca[0:100,:],D_L_train.values.ravel())\n",
    "    pred_knn_P=knn.predict(x_pca[100:200,:])\n",
    "    \n",
    "    #Kernel PCA\n",
    "    kpca=KernelPCA(n_components, kernel='cosine')\n",
    "    x_kpca=kpca.fit_transform(X)\n",
    "    knn.fit(x_kpca[0:100,:], D_L_train.values.ravel())\n",
    "    pred_knn_KP=knn.predict(x_kpca[100:200,:])\n",
    "    \n",
    "    #Isomap\n",
    "    isomap=manifold.Isomap(n_neighbors, n_components)\n",
    "    x_isomap=isomap.fit_transform(X)\n",
    "    knn.fit(x_isomap[0:100,:],D_L_train.values.ravel())\n",
    "    pred_knn_I=knn.predict(x_isomap[100:200,:])\n",
    "    \n",
    "    #lle\n",
    "    lle=manifold.LocallyLinearEmbedding(n_neighbors, n_components)\n",
    "    x_lle=lle.fit_transform(X)\n",
    "    knn.fit(x_lle[0:100,:],D_L_train.values.ravel())\n",
    "    pred_knn_L=knn.predict(x_lle[100:200,:])\n",
    "    \n",
    "    #calculate ACC\n",
    "    reduct_methods=[pred_knn_P, pred_knn_KP, pred_knn_I, pred_knn_L]\n",
    "    ACC=[round((sum(np.where(pred_knn==D_L_valid['Target'],1,0))/len(D_L_valid))*100,2) for pred_knn in reduct_methods]\n",
    "    ACC_set.append(ACC)"
   ]
  },
  {
   "cell_type": "markdown",
   "metadata": {},
   "source": [
    "### Compare Performance"
   ]
  },
  {
   "cell_type": "code",
   "execution_count": 5,
   "metadata": {
    "collapsed": false
   },
   "outputs": [
    {
     "name": "stdout",
     "output_type": "stream",
     "text": [
      "      PCA  Kernel_PCA  Isomap  LLE\n",
      "10    NaN         NaN     NaN  NaN\n",
      "50    NaN         NaN    86.0  NaN\n",
      "100  84.0         NaN    86.0  NaN\n"
     ]
    }
   ],
   "source": [
    "ACC_set=pd.DataFrame(np.array(ACC_set))\n",
    "ACC_set.columns=['PCA','Kernel_PCA','Isomap','LLE']\n",
    "ACC_set.index=dim\n",
    "\n",
    "print(ACC_set[ACC_set>=ACC_origin]) #KNN의 기본보다 나은 성능을 보이는 차원감소 기법들 "
   ]
  }
 ],
 "metadata": {
  "kernelspec": {
   "display_name": "Python [Anaconda3]",
   "language": "python",
   "name": "Python [Anaconda3]"
  },
  "language_info": {
   "codemirror_mode": {
    "name": "ipython",
    "version": 3
   },
   "file_extension": ".py",
   "mimetype": "text/x-python",
   "name": "python",
   "nbconvert_exporter": "python",
   "pygments_lexer": "ipython3",
   "version": "3.5.2"
  }
 },
 "nbformat": 4,
 "nbformat_minor": 0
}
